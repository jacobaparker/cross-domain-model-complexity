{
 "cells": [
  {
   "cell_type": "code",
   "execution_count": 1,
   "id": "e9664aff",
   "metadata": {},
   "outputs": [
    {
     "name": "stdout",
     "output_type": "stream",
     "text": [
      "Using matplotlib backend: <object object at 0x0000016475EEA580>\n",
      "%pylab is deprecated, use %matplotlib inline and import the required libraries.\n",
      "Populating the interactive namespace from numpy and matplotlib\n"
     ]
    },
    {
     "name": "stderr",
     "output_type": "stream",
     "text": [
      "C:\\Users\\parja\\Miniconda3\\envs\\neuro-stats\\lib\\site-packages\\outdated\\utils.py:14: OutdatedPackageWarning: The package outdated is out of date. Your version is 0.2.1, the latest is 0.2.2.\n",
      "Set the environment variable OUTDATED_IGNORE=1 to disable these warnings.\n",
      "  return warn(\n"
     ]
    }
   ],
   "source": [
    "%pylab\n",
    "%matplotlib inline\n",
    "import pandas as pd\n",
    "import numpy as np\n",
    "from scipy import stats\n",
    "from scipy.stats import spearmanr, entropy, pearsonr\n",
    "import scipy.io as spio\n",
    "import statsmodels.formula.api as sm\n",
    "import sys, csv, pingouin\n",
    "import os\n",
    "import quickHTML as qh\n",
    "import matplotlib.pyplot as plt"
   ]
  },
  {
   "cell_type": "code",
   "execution_count": 31,
   "id": "20487afc",
   "metadata": {},
   "outputs": [
    {
     "name": "stdout",
     "output_type": "stream",
     "text": [
      "Returned participant 60ddc7abdf6661b9c294691f cross-domain-model-complexity_PARTICIPANT_SESSION_2022-11-07_10h10.08.183.csv\n",
      "Returned participant 60ddc7abdf6661b9c294691f cross-domain-model-complexity_PARTICIPANT_SESSION_2022-11-07_10h23.43.399.csv\n",
      "Returned participant 61549a2caa92d84f392000e9 cross-domain-model-complexity_PARTICIPANT_SESSION_2022-11-07_10h30.02.151.csv\n",
      "5ddea5f1cf08aae150362282: cross-domain-model-complexity_PARTICIPANT_SESSION_2022-11-07_10h45.10.717.csv\n",
      "636591f6c00e52efc8749ae3: cross-domain-model-complexity_PARTICIPANT_SESSION_2022-11-07_14h58.30.176.csv\n",
      "636591f6c00e52efc8749ae3: cross-domain-model-complexity_PARTICIPANT_SESSION_2022-11-07_15h05.34.454.csv\n",
      "636591f6c00e52efc8749ae3: cross-domain-model-complexity_PARTICIPANT_SESSION_2022-11-07_15h09.29.687.csv\n",
      "636591f6c00e52efc8749ae3: cross-domain-model-complexity_PARTICIPANT_SESSION_2022-11-07_16h32.51.796.csv\n",
      "607ec28e6a0bde56a9d69ddc,1.4\n",
      "63168f4d57bf8e3c1a5cf056,1.38\n",
      "6112dba8e2eb90519a46e6cf,1.1\n",
      "630f9d70f86ca1ee77a5b8dd,1.2\n",
      "622a07840fcdc97704f929a9,1.49\n",
      "62c459940885216623befb25,1.19\n",
      "614e0000692b265cf52c1c45,nan\n",
      "60dfdb8bbef17b6739d12215,1.41\n",
      "601b9077694f034f0092dd8f,1.38\n",
      "614e0000692b265cf52c1c45,1.1800000000000002\n",
      "5c2ff645644d5300010c25f3,1.3199999999999998\n",
      "5c2ff645644d5300010c25f3,nan\n",
      "632db7be32b2465d4397aa9d,1.18\n",
      "57bfc1beef05670001ee84c2,1.37\n",
      "6128fd492700069e594016c9,1.16\n",
      "632db7be32b2465d4397aa9d,nan\n",
      "5eab09eb60ed4e0ae2dc694f,1.27\n",
      "5d45c2d1da9cb60015aa4312,1.3\n",
      "6102c81e911700cf7ba5f6bd,1.39\n",
      "614ee4370d85f20de1b9548f,1.08\n",
      "5fd6ebe9b77a3d65df0c0674,1.26\n",
      "60fec21e36a05990cfa8a715,1.33\n",
      "60ddc7abdf6661b9c294691f,1.14\n",
      "614a2938ccbb6e48eb2dcbd1,1.38\n",
      "57564c3d947a3d0007b545d6,1.35\n",
      "6156498c17bdcd7cb70c420c,1.3\n",
      "60ddc7abdf6661b9c294691f,nan\n",
      "5e127002fa3d108e61b09a99,1.46\n",
      "614a2938ccbb6e48eb2dcbd1,nan\n",
      "61bb389740db417c1a138cad,1.45\n",
      "631b9d9b74d27f8b81f77939,1.38\n",
      "61549a2caa92d84f392000e9,1.14\n",
      "61bb389740db417c1a138cad,nan\n",
      "61bb389740db417c1a138cad,nan\n",
      "631b9d9b74d27f8b81f77939,nan\n",
      "5c1bc0ab84ff14000184c2ce,1.23\n",
      "5f6056e9a41e0d14d4c19f4c,1.2999999999999998\n",
      "56b8de29e1d0a200051517f8,1.49\n",
      "5ddea5f1cf08aae150362282,1.27\n",
      "589ce4d65e63bf00013b3175,1.34\n",
      "5d793a152df8ed001645ed7f,1.28\n",
      "5d1765dbe784250019adf3ed,1.39\n",
      "5d3222f5d7ca2e00161bda18,1.29\n",
      "60dc4e2299f89a7ca94b2c91,1.2400000000000002\n",
      "6172b8bcb0ca871db44b71c9,1.12\n",
      "5efb31fa8cd32f04bf048643,1.37\n",
      "62bb31196b1faed16b34e914,1.42\n",
      "63312d50b69dc2a2122ed1c2,1.33\n",
      "5f763e6e7632050c3712feac,1.3\n",
      "5e9389d87d6dc1078fe0ebee,1.2200000000000002\n",
      "5c26ff27bbcebf0001cc8eeb,1.42\n",
      "5c26ff27bbcebf0001cc8eeb,nan\n",
      "5dd5db1ded7ea4574c7bc996,1.15\n",
      "60ff4fc94dbc53a93c790a0b,1.11\n",
      "5e29dc4721a5f20481c70274,1.14\n",
      "636591f6c00e52efc8749ae3,nan\n",
      "636591f6c00e52efc8749ae3,nan\n",
      "636591f6c00e52efc8749ae3,nan\n",
      "63639d3bbd810ed5c307efc3,1.23\n",
      "636591f6c00e52efc8749ae3,nan\n"
     ]
    }
   ],
   "source": [
    "rootdir = 'C:\\\\Users\\\\parja\\\\Projects\\\\cross-domain-model-complexity\\\\'\n",
    "datadir = rootdir + 'data\\\\'\n",
    "arm_seq_df = pd.read_csv(rootdir + 'tasks\\\\two-arm-new\\\\stimuli\\\\seq8_new_new.csv')\n",
    "sjfiles = [sjfile for sjfile in os.listdir(datadir) if '.csv' in sjfile]\n",
    "sjkey = {}\n",
    "sjbonus = {}\n",
    "beads_scores = []\n",
    "arm_scores = []\n",
    "lowH_times = []\n",
    "highH_times = []\n",
    "arm_times1 = []\n",
    "arm_times2 = []\n",
    "sjs_nempty = {}\n",
    "sjs_all_list = {}\n",
    "jj = 1\n",
    "for sjfile in sjfiles:\n",
    "    sjdf = pd.read_csv(datadir + sjfile)\n",
    "    sjkey[jj] = sjdf.subject_id[0]\n",
    "    \n",
    "    if '5ddea5f1cf08aae150362282' == sjdf.subject_id[0]:\n",
    "        print('5ddea5f1cf08aae150362282: ' + sjfile)\n",
    "        \n",
    "    if '636591f6c00e52efc8749ae3' == sjdf.subject_id[0]:\n",
    "        print('636591f6c00e52efc8749ae3: ' + sjfile)\n",
    "        \n",
    "    if '5cead73185712e00190bcf17' == sjdf.subject_id[0]:\n",
    "        print('Returned participant ' + sjdf.subject_id[0] + ' ' + sjfile)\n",
    "        \n",
    "    if '614d465852620924f85603c8' == sjdf.subject_id[0]:\n",
    "        print('Returned participant ' + sjdf.subject_id[0] + ' ' + sjfile)\n",
    "        \n",
    "    if '60ddc7abdf6661b9c294691f' == sjdf.subject_id[0]:\n",
    "        print('Returned participant ' + sjdf.subject_id[0] + ' ' + sjfile)\n",
    "        \n",
    "    if '61549a2caa92d84f392000e9' == sjdf.subject_id[0]:\n",
    "        print('Returned participant ' + sjdf.subject_id[0] + ' ' + sjfile)\n",
    "    \n",
    "    if sjdf.subject_id[0] not in sjs_all_list.keys():\n",
    "        sjs_all_list[sjkey[jj]] = []\n",
    "    \n",
    "    try:\n",
    "        sjbonus[jj] = float(sjdf.total_bonus[np.isnan(sjdf.total_bonus) == False])\n",
    "        #sjbonus[jj] = sjdf.total_bonus[len(sjdf)-2]\n",
    "        \n",
    "        sjs_nempty[sjkey[jj]] = float(sjdf.total_bonus[np.isnan(sjdf.total_bonus) == False])\n",
    "        \n",
    "        sjs_all_list[sjkey[jj]].append(float(sjdf.total_bonus[np.isnan(sjdf.total_bonus) == False]))\n",
    "\n",
    "        beads_scores.append(int(sjdf.highH_score[np.isnan(sjdf.highH_score) == False]) + int(sjdf.lowH_score[np.isnan(sjdf.lowH_score) == False]))\n",
    "        arm_scores.append(int(sjdf.two_arm_score_total[np.isnan(sjdf.two_arm_score_total) == False]))\n",
    "\n",
    "        beads_exp_df = sjdf[(sjdf.block == 'highH') | (sjdf.block == 'lowH')]\n",
    "        arm_exp_df = sjdf[sjdf.block == 'two_arm_exp']\n",
    "\n",
    "        ltimes = beads_exp_df.time_elapsed[beads_exp_df.block == 'lowH'].to_numpy()\n",
    "        htimes = beads_exp_df.time_elapsed[beads_exp_df.block == 'highH'].to_numpy()\n",
    "        lowH_times.append((ltimes[-1] - ltimes[0])/1000/60)\n",
    "        highH_times.append((htimes[-1] - htimes[0])/1000/60)\n",
    "\n",
    "        atimes1 = arm_exp_df[arm_exp_df.block_num == 1].time_elapsed.to_numpy()\n",
    "        arm_times1.append((atimes1[-1] - atimes1[0])/1000/60)\n",
    "        \n",
    "        atimes2 = arm_exp_df[arm_exp_df.block_num == 2].time_elapsed.to_numpy()\n",
    "        arm_times2.append((atimes2[-1] - atimes2[0])/1000/60)\n",
    "        \n",
    "    except:\n",
    "        sjbonus[jj] = np.nan\n",
    "        sjs_all_list[sjkey[jj]].append(np.nan)\n",
    "        beads_scores.append(np.nan)\n",
    "        arm_scores.append(np.nan)\n",
    "        lowH_times.append(np.nan)\n",
    "        highH_times.append(np.nan)\n",
    "        arm_times1.append(np.nan)\n",
    "        arm_times2.append(np.nan)\n",
    "    \n",
    "    jj += 1\n",
    "    \n",
    "for sj in sjkey:\n",
    "    print(sjkey[sj] + ',' + str(sjbonus[sj]))\n",
    "    \n",
    "# print(beads_scores)\n",
    "# print(arm_scores)\n",
    "# print(np.mean(np.array(beads_scores)[sjinds]))\n",
    "# print(np.mean(np.array(arm_scores)[sjinds]))\n",
    "# print(lowH_times)\n",
    "# print(highH_times)\n",
    "# print(arm_times)\n",
    "# print(np.mean(np.array(lowH_times)[sjinds]))\n",
    "# print(np.mean(np.array(highH_times)[sjinds]))\n",
    "# print(np.mean(np.array(arm_times)[sjinds]))"
   ]
  },
  {
   "cell_type": "code",
   "execution_count": 27,
   "id": "dab38c96",
   "metadata": {},
   "outputs": [
    {
     "name": "stdout",
     "output_type": "stream",
     "text": [
      "607ec28e6a0bde56a9d69ddc,1.4\n",
      "63168f4d57bf8e3c1a5cf056,1.38\n",
      "6112dba8e2eb90519a46e6cf,1.1\n",
      "630f9d70f86ca1ee77a5b8dd,1.2\n",
      "622a07840fcdc97704f929a9,1.49\n",
      "62c459940885216623befb25,1.19\n",
      "60dfdb8bbef17b6739d12215,1.41\n",
      "601b9077694f034f0092dd8f,1.38\n",
      "614e0000692b265cf52c1c45,1.1800000000000002\n",
      "5c2ff645644d5300010c25f3,1.3199999999999998\n",
      "632db7be32b2465d4397aa9d,1.18\n",
      "57bfc1beef05670001ee84c2,1.37\n",
      "6128fd492700069e594016c9,1.16\n",
      "5eab09eb60ed4e0ae2dc694f,1.27\n",
      "5d45c2d1da9cb60015aa4312,1.3\n",
      "6102c81e911700cf7ba5f6bd,1.39\n",
      "614ee4370d85f20de1b9548f,1.08\n",
      "5fd6ebe9b77a3d65df0c0674,1.26\n",
      "60fec21e36a05990cfa8a715,1.33\n",
      "60ddc7abdf6661b9c294691f,1.14\n",
      "614a2938ccbb6e48eb2dcbd1,1.38\n",
      "57564c3d947a3d0007b545d6,1.35\n",
      "6156498c17bdcd7cb70c420c,1.3\n",
      "5e127002fa3d108e61b09a99,1.46\n",
      "61bb389740db417c1a138cad,1.45\n",
      "631b9d9b74d27f8b81f77939,1.38\n",
      "61549a2caa92d84f392000e9,1.14\n",
      "5c1bc0ab84ff14000184c2ce,1.23\n",
      "5f6056e9a41e0d14d4c19f4c,1.2999999999999998\n",
      "56b8de29e1d0a200051517f8,1.49\n",
      "5ddea5f1cf08aae150362282,1.27\n",
      "589ce4d65e63bf00013b3175,1.34\n",
      "5d793a152df8ed001645ed7f,1.28\n",
      "5d1765dbe784250019adf3ed,1.39\n",
      "5d3222f5d7ca2e00161bda18,1.29\n",
      "60dc4e2299f89a7ca94b2c91,1.2400000000000002\n",
      "6172b8bcb0ca871db44b71c9,1.12\n",
      "5efb31fa8cd32f04bf048643,1.37\n",
      "62bb31196b1faed16b34e914,1.42\n",
      "63312d50b69dc2a2122ed1c2,1.33\n",
      "5f763e6e7632050c3712feac,1.3\n",
      "5e9389d87d6dc1078fe0ebee,1.2200000000000002\n",
      "5c26ff27bbcebf0001cc8eeb,1.42\n",
      "5dd5db1ded7ea4574c7bc996,1.15\n",
      "60ff4fc94dbc53a93c790a0b,1.11\n",
      "5e29dc4721a5f20481c70274,1.14\n",
      "63639d3bbd810ed5c307efc3,1.23\n"
     ]
    }
   ],
   "source": [
    "bonus_total = 0\n",
    "for sj in sjs_nempty.keys():\n",
    "    print(sj + ',' + str(sjs_nempty[sj]))\n",
    "    if isnan(sjs_nempty[sj]):\n",
    "        pass\n",
    "    else:\n",
    "        bonus_total += sjs_nempty[sj]"
   ]
  },
  {
   "cell_type": "code",
   "execution_count": 29,
   "id": "b86ed6f3",
   "metadata": {},
   "outputs": [
    {
     "data": {
      "text/plain": [
       "47"
      ]
     },
     "execution_count": 29,
     "metadata": {},
     "output_type": "execute_result"
    }
   ],
   "source": [
    "len(sjs_nempty)"
   ]
  },
  {
   "cell_type": "code",
   "execution_count": 18,
   "id": "ef58f2a0",
   "metadata": {},
   "outputs": [
    {
     "data": {
      "text/plain": [
       "60.660000000000004"
      ]
     },
     "execution_count": 18,
     "metadata": {},
     "output_type": "execute_result"
    }
   ],
   "source": [
    "bonus_total + 1.3"
   ]
  },
  {
   "cell_type": "code",
   "execution_count": 17,
   "id": "ae530f66",
   "metadata": {},
   "outputs": [
    {
     "data": {
      "text/plain": [
       "1.2904347826086957"
      ]
     },
     "execution_count": 17,
     "metadata": {},
     "output_type": "execute_result"
    }
   ],
   "source": [
    "bonus_total/46"
   ]
  },
  {
   "cell_type": "code",
   "execution_count": 28,
   "id": "29f66cf8",
   "metadata": {},
   "outputs": [
    {
     "name": "stdout",
     "output_type": "stream",
     "text": [
      "607ec28e6a0bde56a9d69ddc\n",
      "[1.4]\n",
      "63168f4d57bf8e3c1a5cf056\n",
      "[1.38]\n",
      "6112dba8e2eb90519a46e6cf\n",
      "[1.1]\n",
      "630f9d70f86ca1ee77a5b8dd\n",
      "[1.2]\n",
      "622a07840fcdc97704f929a9\n",
      "[1.49]\n",
      "62c459940885216623befb25\n",
      "[1.19]\n",
      "614e0000692b265cf52c1c45\n",
      "[nan, 1.1800000000000002]\n",
      "60dfdb8bbef17b6739d12215\n",
      "[1.41]\n",
      "601b9077694f034f0092dd8f\n",
      "[1.38]\n",
      "5c2ff645644d5300010c25f3\n",
      "[1.3199999999999998, nan]\n",
      "632db7be32b2465d4397aa9d\n",
      "[1.18, nan]\n",
      "57bfc1beef05670001ee84c2\n",
      "[1.37]\n",
      "6128fd492700069e594016c9\n",
      "[1.16]\n",
      "5eab09eb60ed4e0ae2dc694f\n",
      "[1.27]\n",
      "5d45c2d1da9cb60015aa4312\n",
      "[1.3]\n",
      "6102c81e911700cf7ba5f6bd\n",
      "[1.39]\n",
      "614ee4370d85f20de1b9548f\n",
      "[1.08]\n",
      "5fd6ebe9b77a3d65df0c0674\n",
      "[1.26]\n",
      "60fec21e36a05990cfa8a715\n",
      "[1.33]\n",
      "60ddc7abdf6661b9c294691f\n",
      "[1.14, nan]\n",
      "614a2938ccbb6e48eb2dcbd1\n",
      "[1.38, nan]\n",
      "57564c3d947a3d0007b545d6\n",
      "[1.35]\n",
      "6156498c17bdcd7cb70c420c\n",
      "[1.3]\n",
      "5e127002fa3d108e61b09a99\n",
      "[1.46]\n",
      "61bb389740db417c1a138cad\n",
      "[1.45, nan, nan]\n",
      "631b9d9b74d27f8b81f77939\n",
      "[1.38, nan]\n",
      "61549a2caa92d84f392000e9\n",
      "[1.14]\n",
      "5c1bc0ab84ff14000184c2ce\n",
      "[1.23]\n",
      "5f6056e9a41e0d14d4c19f4c\n",
      "[1.2999999999999998]\n",
      "56b8de29e1d0a200051517f8\n",
      "[1.49]\n",
      "5ddea5f1cf08aae150362282\n",
      "[1.27]\n",
      "589ce4d65e63bf00013b3175\n",
      "[1.34]\n",
      "5d793a152df8ed001645ed7f\n",
      "[1.28]\n",
      "5d1765dbe784250019adf3ed\n",
      "[1.39]\n",
      "5d3222f5d7ca2e00161bda18\n",
      "[1.29]\n",
      "60dc4e2299f89a7ca94b2c91\n",
      "[1.2400000000000002]\n",
      "6172b8bcb0ca871db44b71c9\n",
      "[1.12]\n",
      "5efb31fa8cd32f04bf048643\n",
      "[1.37]\n",
      "62bb31196b1faed16b34e914\n",
      "[1.42]\n",
      "63312d50b69dc2a2122ed1c2\n",
      "[1.33]\n",
      "5f763e6e7632050c3712feac\n",
      "[1.3]\n",
      "5e9389d87d6dc1078fe0ebee\n",
      "[1.2200000000000002]\n",
      "5c26ff27bbcebf0001cc8eeb\n",
      "[1.42, nan]\n",
      "5dd5db1ded7ea4574c7bc996\n",
      "[1.15]\n",
      "60ff4fc94dbc53a93c790a0b\n",
      "[1.11]\n",
      "5e29dc4721a5f20481c70274\n",
      "[1.14]\n",
      "636591f6c00e52efc8749ae3\n",
      "[nan, nan, nan, nan]\n",
      "63639d3bbd810ed5c307efc3\n",
      "[1.23]\n"
     ]
    }
   ],
   "source": [
    "for sj in sjs_all_list.keys():\n",
    "    print(sj)\n",
    "    print(sjs_all_list[sj])"
   ]
  },
  {
   "cell_type": "code",
   "execution_count": 23,
   "id": "556eb146",
   "metadata": {},
   "outputs": [
    {
     "data": {
      "text/plain": [
       "48"
      ]
     },
     "execution_count": 23,
     "metadata": {},
     "output_type": "execute_result"
    }
   ],
   "source": [
    "len(sjs_all_list.keys())"
   ]
  },
  {
   "cell_type": "code",
   "execution_count": null,
   "id": "76c7b0f4",
   "metadata": {},
   "outputs": [],
   "source": []
  }
 ],
 "metadata": {
  "kernelspec": {
   "display_name": "Python 3",
   "language": "python",
   "name": "python3"
  },
  "language_info": {
   "codemirror_mode": {
    "name": "ipython",
    "version": 3
   },
   "file_extension": ".py",
   "mimetype": "text/x-python",
   "name": "python",
   "nbconvert_exporter": "python",
   "pygments_lexer": "ipython3",
   "version": "3.10.5"
  }
 },
 "nbformat": 4,
 "nbformat_minor": 5
}
